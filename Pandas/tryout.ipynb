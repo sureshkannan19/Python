{
 "cells": [
  {
   "cell_type": "code",
   "id": "initial_id",
   "metadata": {
    "ExecuteTime": {
     "end_time": "2025-10-05T13:33:45.951435Z",
     "start_time": "2025-10-05T13:33:45.917593Z"
    }
   },
   "source": [
    "import pandas as pd\n",
    "import os\n",
    "\n",
    "pd.set_option('display.max_colwidth', None)  # show full text in each cell\n",
    "pd.set_option('display.max_rows', 10)      # show all rows (optional)\n",
    "pd.set_option('display.max_columns', None)  \n",
    "\n",
    "\n",
    "folder_original = os.path.expanduser(\"~/PycharmProjects/PythonProject/resources/movies.json\")\n",
    "df_from_json = pd.read_json(folder_original)\n",
    "print(len(df_from_json)) # no of rows\n",
    "print(df_from_json)"
   ],
   "outputs": [
    {
     "name": "stdout",
     "output_type": "stream",
     "text": [
      "36\n",
      "             director            movie  rating\n",
      "0   Christopher Nolan        Inception      10\n",
      "1   Christopher Nolan     Interstellar      10\n",
      "2   Christopher Nolan  The Dark Knight      10\n",
      "3   Christopher Nolan            Tenet      10\n",
      "4   Christopher Nolan          Memento      10\n",
      "..                ...              ...     ...\n",
      "31     A R Murugadoss          Ghajini      10\n",
      "32     A R Murugadoss        Thuppakki      10\n",
      "33     A R Murugadoss          Kaththi      10\n",
      "34     A R Murugadoss           Ramana      10\n",
      "35     A R Murugadoss           Spyder      10\n",
      "\n",
      "[36 rows x 3 columns]\n"
     ]
    }
   ],
   "execution_count": 5
  },
  {
   "cell_type": "code",
   "id": "8c2402c373960a87",
   "metadata": {
    "ExecuteTime": {
     "end_time": "2025-10-05T13:33:52.203619Z",
     "start_time": "2025-10-05T13:33:52.188914Z"
    }
   },
   "source": [
    "print(df_from_json.head())\n",
    "print(df_from_json.tail())"
   ],
   "outputs": [
    {
     "name": "stdout",
     "output_type": "stream",
     "text": [
      "            director            movie  rating\n",
      "0  Christopher Nolan        Inception      10\n",
      "1  Christopher Nolan     Interstellar      10\n",
      "2  Christopher Nolan  The Dark Knight      10\n",
      "3  Christopher Nolan            Tenet      10\n",
      "4  Christopher Nolan          Memento      10\n",
      "          director      movie  rating\n",
      "31  A R Murugadoss    Ghajini      10\n",
      "32  A R Murugadoss  Thuppakki      10\n",
      "33  A R Murugadoss    Kaththi      10\n",
      "34  A R Murugadoss     Ramana      10\n",
      "35  A R Murugadoss     Spyder      10\n"
     ]
    }
   ],
   "execution_count": 7
  },
  {
   "cell_type": "code",
   "id": "5475009210ea2e97",
   "metadata": {
    "ExecuteTime": {
     "end_time": "2025-10-05T13:33:58.441134Z",
     "start_time": "2025-10-05T13:33:58.408048Z"
    }
   },
   "source": "df_from_json[['director', 'movie']] # display only specific columns",
   "outputs": [
    {
     "data": {
      "text/plain": [
       "             director            movie\n",
       "0   Christopher Nolan        Inception\n",
       "1   Christopher Nolan     Interstellar\n",
       "2   Christopher Nolan  The Dark Knight\n",
       "3   Christopher Nolan            Tenet\n",
       "4   Christopher Nolan          Memento\n",
       "..                ...              ...\n",
       "31     A R Murugadoss          Ghajini\n",
       "32     A R Murugadoss        Thuppakki\n",
       "33     A R Murugadoss          Kaththi\n",
       "34     A R Murugadoss           Ramana\n",
       "35     A R Murugadoss           Spyder\n",
       "\n",
       "[36 rows x 2 columns]"
      ],
      "text/html": [
       "<div>\n",
       "<style scoped>\n",
       "    .dataframe tbody tr th:only-of-type {\n",
       "        vertical-align: middle;\n",
       "    }\n",
       "\n",
       "    .dataframe tbody tr th {\n",
       "        vertical-align: top;\n",
       "    }\n",
       "\n",
       "    .dataframe thead th {\n",
       "        text-align: right;\n",
       "    }\n",
       "</style>\n",
       "<table border=\"1\" class=\"dataframe\">\n",
       "  <thead>\n",
       "    <tr style=\"text-align: right;\">\n",
       "      <th></th>\n",
       "      <th>director</th>\n",
       "      <th>movie</th>\n",
       "    </tr>\n",
       "  </thead>\n",
       "  <tbody>\n",
       "    <tr>\n",
       "      <th>0</th>\n",
       "      <td>Christopher Nolan</td>\n",
       "      <td>Inception</td>\n",
       "    </tr>\n",
       "    <tr>\n",
       "      <th>1</th>\n",
       "      <td>Christopher Nolan</td>\n",
       "      <td>Interstellar</td>\n",
       "    </tr>\n",
       "    <tr>\n",
       "      <th>2</th>\n",
       "      <td>Christopher Nolan</td>\n",
       "      <td>The Dark Knight</td>\n",
       "    </tr>\n",
       "    <tr>\n",
       "      <th>3</th>\n",
       "      <td>Christopher Nolan</td>\n",
       "      <td>Tenet</td>\n",
       "    </tr>\n",
       "    <tr>\n",
       "      <th>4</th>\n",
       "      <td>Christopher Nolan</td>\n",
       "      <td>Memento</td>\n",
       "    </tr>\n",
       "    <tr>\n",
       "      <th>...</th>\n",
       "      <td>...</td>\n",
       "      <td>...</td>\n",
       "    </tr>\n",
       "    <tr>\n",
       "      <th>31</th>\n",
       "      <td>A R Murugadoss</td>\n",
       "      <td>Ghajini</td>\n",
       "    </tr>\n",
       "    <tr>\n",
       "      <th>32</th>\n",
       "      <td>A R Murugadoss</td>\n",
       "      <td>Thuppakki</td>\n",
       "    </tr>\n",
       "    <tr>\n",
       "      <th>33</th>\n",
       "      <td>A R Murugadoss</td>\n",
       "      <td>Kaththi</td>\n",
       "    </tr>\n",
       "    <tr>\n",
       "      <th>34</th>\n",
       "      <td>A R Murugadoss</td>\n",
       "      <td>Ramana</td>\n",
       "    </tr>\n",
       "    <tr>\n",
       "      <th>35</th>\n",
       "      <td>A R Murugadoss</td>\n",
       "      <td>Spyder</td>\n",
       "    </tr>\n",
       "  </tbody>\n",
       "</table>\n",
       "<p>36 rows × 2 columns</p>\n",
       "</div>"
      ]
     },
     "execution_count": 8,
     "metadata": {},
     "output_type": "execute_result"
    }
   ],
   "execution_count": 8
  },
  {
   "cell_type": "code",
   "id": "783f394c-0d2c-4310-b55f-b88b4590b811",
   "metadata": {
    "ExecuteTime": {
     "end_time": "2025-10-05T13:34:01.208862Z",
     "start_time": "2025-10-05T13:34:01.197715Z"
    }
   },
   "source": "df_from_json.iloc[0:6, 1]",
   "outputs": [
    {
     "data": {
      "text/plain": [
       "0          Inception\n",
       "1       Interstellar\n",
       "2    The Dark Knight\n",
       "3              Tenet\n",
       "4            Memento\n",
       "5       The Prestige\n",
       "Name: movie, dtype: object"
      ]
     },
     "execution_count": 9,
     "metadata": {},
     "output_type": "execute_result"
    }
   ],
   "execution_count": 9
  },
  {
   "cell_type": "code",
   "id": "aca5945c-45c9-4458-8817-813bdf763503",
   "metadata": {
    "ExecuteTime": {
     "end_time": "2025-10-05T13:34:03.506250Z",
     "start_time": "2025-10-05T13:34:03.481692Z"
    }
   },
   "source": "df_from_json[df_from_json['director'].isin(['Christopher Nolan', 'Vetrimaran'])]",
   "outputs": [
    {
     "data": {
      "text/plain": [
       "             director               movie  rating\n",
       "0   Christopher Nolan           Inception      10\n",
       "1   Christopher Nolan        Interstellar      10\n",
       "2   Christopher Nolan     The Dark Knight      10\n",
       "3   Christopher Nolan               Tenet      10\n",
       "4   Christopher Nolan             Memento      10\n",
       "..                ...                 ...     ...\n",
       "26         Vetrimaran              Asuran      10\n",
       "27         Vetrimaran        Vada Chennai      10\n",
       "28         Vetrimaran         Polladhavan      10\n",
       "29         Vetrimaran           Visaranai      10\n",
       "30         Vetrimaran  Viduthalai: Part 1      10\n",
       "\n",
       "[11 rows x 3 columns]"
      ],
      "text/html": [
       "<div>\n",
       "<style scoped>\n",
       "    .dataframe tbody tr th:only-of-type {\n",
       "        vertical-align: middle;\n",
       "    }\n",
       "\n",
       "    .dataframe tbody tr th {\n",
       "        vertical-align: top;\n",
       "    }\n",
       "\n",
       "    .dataframe thead th {\n",
       "        text-align: right;\n",
       "    }\n",
       "</style>\n",
       "<table border=\"1\" class=\"dataframe\">\n",
       "  <thead>\n",
       "    <tr style=\"text-align: right;\">\n",
       "      <th></th>\n",
       "      <th>director</th>\n",
       "      <th>movie</th>\n",
       "      <th>rating</th>\n",
       "    </tr>\n",
       "  </thead>\n",
       "  <tbody>\n",
       "    <tr>\n",
       "      <th>0</th>\n",
       "      <td>Christopher Nolan</td>\n",
       "      <td>Inception</td>\n",
       "      <td>10</td>\n",
       "    </tr>\n",
       "    <tr>\n",
       "      <th>1</th>\n",
       "      <td>Christopher Nolan</td>\n",
       "      <td>Interstellar</td>\n",
       "      <td>10</td>\n",
       "    </tr>\n",
       "    <tr>\n",
       "      <th>2</th>\n",
       "      <td>Christopher Nolan</td>\n",
       "      <td>The Dark Knight</td>\n",
       "      <td>10</td>\n",
       "    </tr>\n",
       "    <tr>\n",
       "      <th>3</th>\n",
       "      <td>Christopher Nolan</td>\n",
       "      <td>Tenet</td>\n",
       "      <td>10</td>\n",
       "    </tr>\n",
       "    <tr>\n",
       "      <th>4</th>\n",
       "      <td>Christopher Nolan</td>\n",
       "      <td>Memento</td>\n",
       "      <td>10</td>\n",
       "    </tr>\n",
       "    <tr>\n",
       "      <th>...</th>\n",
       "      <td>...</td>\n",
       "      <td>...</td>\n",
       "      <td>...</td>\n",
       "    </tr>\n",
       "    <tr>\n",
       "      <th>26</th>\n",
       "      <td>Vetrimaran</td>\n",
       "      <td>Asuran</td>\n",
       "      <td>10</td>\n",
       "    </tr>\n",
       "    <tr>\n",
       "      <th>27</th>\n",
       "      <td>Vetrimaran</td>\n",
       "      <td>Vada Chennai</td>\n",
       "      <td>10</td>\n",
       "    </tr>\n",
       "    <tr>\n",
       "      <th>28</th>\n",
       "      <td>Vetrimaran</td>\n",
       "      <td>Polladhavan</td>\n",
       "      <td>10</td>\n",
       "    </tr>\n",
       "    <tr>\n",
       "      <th>29</th>\n",
       "      <td>Vetrimaran</td>\n",
       "      <td>Visaranai</td>\n",
       "      <td>10</td>\n",
       "    </tr>\n",
       "    <tr>\n",
       "      <th>30</th>\n",
       "      <td>Vetrimaran</td>\n",
       "      <td>Viduthalai: Part 1</td>\n",
       "      <td>10</td>\n",
       "    </tr>\n",
       "  </tbody>\n",
       "</table>\n",
       "<p>11 rows × 3 columns</p>\n",
       "</div>"
      ]
     },
     "execution_count": 10,
     "metadata": {},
     "output_type": "execute_result"
    }
   ],
   "execution_count": 10
  }
 ],
 "metadata": {
  "kernelspec": {
   "display_name": "Python 3 (ipykernel)",
   "language": "python",
   "name": "python3"
  },
  "language_info": {
   "codemirror_mode": {
    "name": "ipython",
    "version": 3
   },
   "file_extension": ".py",
   "mimetype": "text/x-python",
   "name": "python",
   "nbconvert_exporter": "python",
   "pygments_lexer": "ipython3",
   "version": "3.13.3"
  }
 },
 "nbformat": 4,
 "nbformat_minor": 5
}
